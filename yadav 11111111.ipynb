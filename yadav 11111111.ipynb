{
 "cells": [
  {
   "cell_type": "code",
   "execution_count": 1,
   "id": "e12603ac",
   "metadata": {},
   "outputs": [
    {
     "name": "stdout",
     "output_type": "stream",
     "text": [
      "{}\n",
      "<class 'dict'>\n"
     ]
    }
   ],
   "source": [
    "dic={}\n",
    "print(dic)\n",
    "print(type(dic))"
   ]
  },
  {
   "cell_type": "code",
   "execution_count": 3,
   "id": "7d91acec",
   "metadata": {},
   "outputs": [
    {
     "name": "stdout",
     "output_type": "stream",
     "text": [
      "{}\n",
      "<class 'dict'>\n"
     ]
    }
   ],
   "source": [
    "d1=dict()\n",
    "print(d1)\n",
    "print(type(d1))"
   ]
  },
  {
   "cell_type": "code",
   "execution_count": 11,
   "id": "ff21dd3f",
   "metadata": {},
   "outputs": [
    {
     "name": "stdout",
     "output_type": "stream",
     "text": [
      "{'A': 'APPLE', 'P': 'Papya', 'D': 'Data science', 'J': 'Java'}\n",
      "<class 'dict'>\n"
     ]
    }
   ],
   "source": [
    "dic={\"A\":\"APPLE\",\n",
    "    \"P\":\"Papya\",\n",
    "    \"D\":\"Data science\",\n",
    "    \"J\" : \"Java\"}\n",
    "print(dic)\n",
    "print(type(dic))"
   ]
  },
  {
   "cell_type": "code",
   "execution_count": 12,
   "id": "544d987f",
   "metadata": {},
   "outputs": [
    {
     "name": "stdout",
     "output_type": "stream",
     "text": [
      "{'a': 100, 'b': 200, 'c': 'India'}\n",
      "<class 'dict'>\n"
     ]
    }
   ],
   "source": [
    "dic1=dict(a=100,b=200,c=\"India\")\n",
    "print(dic1)\n",
    "print(type(dic1))"
   ]
  },
  {
   "cell_type": "code",
   "execution_count": 14,
   "id": "eafe0b0e",
   "metadata": {},
   "outputs": [
    {
     "name": "stdout",
     "output_type": "stream",
     "text": [
      "{'A': 'Apple', 'P': 'Papya', 'D': 'Data science', 'J': 'Java', 1: 'One', 2: 'Two'}\n",
      "<class 'dict'>\n"
     ]
    }
   ],
   "source": [
    "dic={\n",
    "    \"A\":\"Apple\",\n",
    "    \"P\":\"Papya\",\n",
    "    \"D\":\"Data science\",\n",
    "    \"J\":\"Java\",\n",
    "    1:\"One\",\n",
    "    2:\"Two\"}\n",
    "print(dic)\n",
    "print(type(dic))\n"
   ]
  },
  {
   "cell_type": "code",
   "execution_count": 15,
   "id": "3e4ab04e",
   "metadata": {},
   "outputs": [
    {
     "name": "stdout",
     "output_type": "stream",
     "text": [
      "**********************************\n",
      "{'name': 'John', 'age': 30, 'car': 'Blue'}\n",
      "<class 'dict'>\n"
     ]
    }
   ],
   "source": [
    "print(\"**********************************\")\n",
    "Js = {\"name\":\"John\",\n",
    "      \"age\":30,\n",
    "      \"car\":\"Blue\"\n",
    "     }\n",
    "print(Js)\n",
    "print(type(Js))"
   ]
  },
  {
   "cell_type": "code",
   "execution_count": 19,
   "id": "b5ca3307",
   "metadata": {},
   "outputs": [
    {
     "name": "stdout",
     "output_type": "stream",
     "text": [
      "{'A': 'Apple', 'P': 'Pypya', 'D': 'Data science', 'J': 'Java', 11: 'one', 22: 'Two'}\n",
      "<class 'dict'>\n",
      "Data science\n",
      "Two\n",
      "one\n",
      "***************************\n",
      "[100, 200, 'India', 900]\n",
      "India\n"
     ]
    }
   ],
   "source": [
    "dic={\n",
    "    \"A\":\"Apple\",\n",
    "    \"P\":\"Pypya\",\n",
    "    \"D\":\"Data science\",\n",
    "    \"J\":\"Java\",\n",
    "    11:\"one\",\n",
    "    22:\"Two\"\n",
    "}\n",
    "print(dic)\n",
    "print(type(dic))\n",
    "res=dic[\"D\"]\n",
    "print(res)\n",
    "res=dic[22]\n",
    "print(res)\n",
    "res=dic[11]\n",
    "print(res)\n",
    "print(\"***************************\")\n",
    "list1=[100,200,\"India\",900]\n",
    "print(list1)\n",
    "res=list1[2]\n",
    "print(res)"
   ]
  },
  {
   "cell_type": "code",
   "execution_count": 28,
   "id": "d1e6b6c8",
   "metadata": {},
   "outputs": [
    {
     "name": "stdout",
     "output_type": "stream",
     "text": [
      "{'A': 'Apple', 'P': 'Pypya', 'D': 'Data science', 'J': 'Java', 11: 'one', 22: 'Two'}\n",
      "<class 'dict'>\n",
      "{'A': 'Apple', 'P': 'Pypya', 'D': 'Data science', 'J': 'Java', 11: 'one', 22: 'Two'}\n",
      "<class 'dict'>\n",
      "('A', 'Aplle')\n",
      "('P', 'Papya')\n",
      "('D', 'Data scince')\n",
      "------------------------------------\n",
      "('B', 'Blue')\n",
      "('Y', 'Yellow')\n",
      "('G', 'Green')\n"
     ]
    }
   ],
   "source": [
    "dic1={\n",
    "    \"A\":\"Aplle\",\n",
    "    \"P\":\"Papya\",\n",
    "    \"D\":\"Data scince\"\n",
    "    \n",
    "}\n",
    "print(dic)\n",
    "print(type(dic))\n",
    "dic2={\n",
    "    \"B\":\"Blue\",\n",
    "    \"Y\":\"Yellow\",\n",
    "    \"G\":\"Green\"\n",
    "}\n",
    "print(dic)\n",
    "print(type(dic2))\n",
    "for c in dic1.items():\n",
    "    print(c)\n",
    "print(\"------------------------------------\")\n",
    "for z in dic2.items():\n",
    "    print(z)\n",
    "print(\"************************************\")\n",
    "import time\n",
    "for x in dic1,dic2:\n",
    "    print(c)\n",
    "    time.sleep(2)"
   ]
  },
  {
   "cell_type": "code",
   "execution_count": 30,
   "id": "4b69ff94",
   "metadata": {},
   "outputs": [
    {
     "name": "stdout",
     "output_type": "stream",
     "text": [
      "{'A': 'APPLE', 'P': 'Python', 'D': 'Data scinece', 'B': 'Banana', 'J': 'java', 'O': 'Oracle'}\n",
      "<class 'dict'>\n",
      "********************************\n",
      "{}\n",
      "{'S': 'Shanti'}\n"
     ]
    }
   ],
   "source": [
    "dic={\n",
    "    \"A\":\"APPLE\",\n",
    "    \"P\":\"Python\",\n",
    "    \"D\":\"Data scinece\",\n",
    "    \"B\":\"Banana\",\n",
    "    \"J\":\"java\",\n",
    "    \"O\":\"Oracle\"\n",
    "}\n",
    "print(dic)\n",
    "print(type(dic))\n",
    "print(\"********************************\")\n",
    "dic.clear()\n",
    "print(dic)\n",
    "dic[\"S\"]=\"Shanti\"\n",
    "print(dic)"
   ]
  },
  {
   "cell_type": "code",
   "execution_count": 34,
   "id": "abc795fe",
   "metadata": {},
   "outputs": [
    {
     "name": "stdout",
     "output_type": "stream",
     "text": [
      "dic1 value: {'P': 'Pyton', 'D': 'Data scince', 'O': 'orange'}\n",
      "dic2 value: {'B': 'banana', 'K': 'kiwi', 'M': 'Mango'}\n",
      "****************************\n"
     ]
    },
    {
     "ename": "AttributeError",
     "evalue": "module 'collections' has no attribute 'Chainmap'",
     "output_type": "error",
     "traceback": [
      "\u001b[1;31m---------------------------------------------------------------------------\u001b[0m",
      "\u001b[1;31mAttributeError\u001b[0m                            Traceback (most recent call last)",
      "Input \u001b[1;32mIn [34]\u001b[0m, in \u001b[0;36m<cell line: 16>\u001b[1;34m()\u001b[0m\n\u001b[0;32m     14\u001b[0m \u001b[38;5;28mprint\u001b[39m(\u001b[38;5;124m\"\u001b[39m\u001b[38;5;124mdic2 value:\u001b[39m\u001b[38;5;124m\"\u001b[39m, dic2)\n\u001b[0;32m     15\u001b[0m \u001b[38;5;28mprint\u001b[39m(\u001b[38;5;124m\"\u001b[39m\u001b[38;5;124m****************************\u001b[39m\u001b[38;5;124m\"\u001b[39m)\n\u001b[1;32m---> 16\u001b[0m res_dic1\u001b[38;5;241m=\u001b[39m\u001b[38;5;28mdict\u001b[39m(\u001b[43mcollections\u001b[49m\u001b[38;5;241;43m.\u001b[39;49m\u001b[43mChainmap\u001b[49m(dic1,dic2))\n\u001b[0;32m     17\u001b[0m \u001b[38;5;28mprint\u001b[39m(res_dic1)\n",
      "File \u001b[1;32m~\\anaconda3\\lib\\collections\\__init__.py:68\u001b[0m, in \u001b[0;36m__getattr__\u001b[1;34m(name)\u001b[0m\n\u001b[0;32m     66\u001b[0m     \u001b[38;5;28mglobals\u001b[39m()[name] \u001b[38;5;241m=\u001b[39m obj\n\u001b[0;32m     67\u001b[0m     \u001b[38;5;28;01mreturn\u001b[39;00m obj\n\u001b[1;32m---> 68\u001b[0m \u001b[38;5;28;01mraise\u001b[39;00m \u001b[38;5;167;01mAttributeError\u001b[39;00m(\u001b[38;5;124mf\u001b[39m\u001b[38;5;124m'\u001b[39m\u001b[38;5;124mmodule \u001b[39m\u001b[38;5;132;01m{\u001b[39;00m\u001b[38;5;18m__name__\u001b[39m\u001b[38;5;132;01m!r}\u001b[39;00m\u001b[38;5;124m has no attribute \u001b[39m\u001b[38;5;132;01m{\u001b[39;00mname\u001b[38;5;132;01m!r}\u001b[39;00m\u001b[38;5;124m'\u001b[39m)\n",
      "\u001b[1;31mAttributeError\u001b[0m: module 'collections' has no attribute 'Chainmap'"
     ]
    }
   ],
   "source": [
    "import collections\n",
    "dic1 ={\n",
    "    \"P\":\"Pyton\",\n",
    "    \"D\":\"Data scince\",\n",
    "    \"O\":\"orange\"\n",
    "}\n",
    "dic2={\n",
    "    \"B\":\"banana\",\n",
    "    \"K\":\"kiwi\",\n",
    "    \"M\":\"Mango\"\n",
    "    \n",
    "}\n",
    "print(\"dic1 value:\",dic1)\n",
    "print(\"dic2 value:\", dic2)\n",
    "print(\"****************************\")\n",
    "res_dic1=dict(collections.Chainmap(dic1,dic2))\n",
    "print(res_dic1)"
   ]
  },
  {
   "cell_type": "code",
   "execution_count": 37,
   "id": "1f301362",
   "metadata": {},
   "outputs": [
    {
     "name": "stdout",
     "output_type": "stream",
     "text": [
      "{'A': 'Apple', 'P': 'Papya', 'D': 'Data scinece', 'J': 'Java', 'O': 'Orange'}\n",
      "<class 'dict'>\n",
      "************************\n",
      "Java\n",
      "{'A': 'Apple', 'P': 'Papya', 'D': 'Data scinece', 'O': 'Orange'}\n",
      "{'P': 'Pyton', 'D': 'Data scince', 'O': 'orange'}\n"
     ]
    }
   ],
   "source": [
    "dic={\n",
    "    \"A\":\"Apple\",\n",
    "    \"P\":\"Papya\",\n",
    "    \"D\":\"Data scinece\",\n",
    "    \"J\":\"Java\",\n",
    "    \"O\":\"Orange\"\n",
    "}\n",
    "print(dic)\n",
    "print(type(dic))\n",
    "print(\"************************\")\n",
    "print(dic[\"J\"])\n",
    "del dic[\"J\"]\n",
    "print(dic)\n",
    "del dic\n",
    "print(dic1)"
   ]
  },
  {
   "cell_type": "code",
   "execution_count": 41,
   "id": "a4381eb9",
   "metadata": {},
   "outputs": [
    {
     "name": "stdout",
     "output_type": "stream",
     "text": [
      "{1: 1, 2: 8, 3: 27, 4: 64, 5: 125, 6: 216, 7: 343, 8: 512, 9: 729}\n",
      "*****************************\n",
      "{1: 1, 2: 8, 3: 27, 4: 64, 5: 125, 6: 216, 7: 343, 8: 512, 9: 729}\n"
     ]
    }
   ],
   "source": [
    "resdic={}\n",
    "for i in range(1,10):\n",
    "    resdic[i]=(i*i*i)\n",
    "print(resdic)\n",
    "print(\"*****************************\")\n",
    "res={j:(j*j*j) for j in range(1,10)}\n",
    "print(res)"
   ]
  },
  {
   "cell_type": "code",
   "execution_count": 51,
   "id": "a472c1c5",
   "metadata": {},
   "outputs": [
    {
     "name": "stdout",
     "output_type": "stream",
     "text": [
      "{'F': 'France', 'I': 'India', 'y': 'yellow', 'w': 'welcome', 'D': 'Data scinece'}\n",
      "********************************\n",
      "{'F': 'France', 'I': 'India', 'y': 'yellow', 'w': 'welcome', 'D': 'Data scinece'}\n"
     ]
    }
   ],
   "source": [
    "list1 =[\"France\",\"India\",\"yellow\",\"Usa\",\"uk\",\"The\",\"welcome\",\"Data scinece\"]\n",
    "finaldic = {}\n",
    "for x in list1:\n",
    "    if len(x)>=5:\n",
    "        finaldic[x[0]] =x\n",
    "print(finaldic)\n",
    "print(\"********************************\")\n",
    "res={y[0]:y for y in list1 if len (y) >=5}\n",
    "print(res)"
   ]
  },
  {
   "cell_type": "code",
   "execution_count": 52,
   "id": "a2156d7c",
   "metadata": {},
   "outputs": [
    {
     "name": "stdout",
     "output_type": "stream",
     "text": [
      "{'F': 'France', 'I': 'India', 'y': 'yellow', 'w': 'welcome', 'D': 'Data scinece'}\n"
     ]
    }
   ],
   "source": [
    "def fun_add():\n",
    "    print(\"This is from fun_add\")\n",
    "    n1=int(input(\"Enter first Number:\"))\n",
    "    n2=int(input(\"Enter second number:\"))\n",
    "    n3=int(input(\"Enetr third number\"))\n",
    "    res = n1+n2+n3\n",
    "print(res)"
   ]
  },
  {
   "cell_type": "code",
   "execution_count": null,
   "id": "c3832c44",
   "metadata": {},
   "outputs": [],
   "source": []
  }
 ],
 "metadata": {
  "kernelspec": {
   "display_name": "Python 3 (ipykernel)",
   "language": "python",
   "name": "python3"
  },
  "language_info": {
   "codemirror_mode": {
    "name": "ipython",
    "version": 3
   },
   "file_extension": ".py",
   "mimetype": "text/x-python",
   "name": "python",
   "nbconvert_exporter": "python",
   "pygments_lexer": "ipython3",
   "version": "3.9.12"
  }
 },
 "nbformat": 4,
 "nbformat_minor": 5
}
